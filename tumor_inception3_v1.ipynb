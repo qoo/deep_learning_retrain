{
 "cells": [
  {
   "cell_type": "code",
   "execution_count": 20,
   "metadata": {
    "collapsed": false
   },
   "outputs": [
    {
     "name": "stdout",
     "output_type": "stream",
     "text": [
      "/mnt/tumor_figures/health_tissue/\n",
      "mouse_14_0_1.tif\n",
      "mouse_15_0_1.tif\n",
      "mouse_8_0_1.tif\n",
      "mouse_2_0_1.tif\n",
      "mouse_5_0_1.tif\n",
      "mouse_1_0_1.tif\n",
      "mouse_3_0_1.tif\n",
      "mouse_13_0_1.tif\n"
     ]
    }
   ],
   "source": [
    "import os\n",
    "\n",
    "path = '/mnt/tumor_figures/health_tissue/'\n",
    "saveFolder = path\n",
    "os.chdir(path)\n",
    "print (path)\n",
    "for filename in os.listdir(\".\"):\n",
    "    if filename.startswith(\"mouse\"):\n",
    "        print (filename)"
   ]
  },
  {
   "cell_type": "code",
   "execution_count": 15,
   "metadata": {
    "collapsed": false
   },
   "outputs": [
    {
     "name": "stdout",
     "output_type": "stream",
     "text": [
      "/mnt/tumor_figures/health_tissue\r\n"
     ]
    }
   ],
   "source": [
    "!pwd"
   ]
  },
  {
   "cell_type": "code",
   "execution_count": 24,
   "metadata": {
    "collapsed": false
   },
   "outputs": [
    {
     "name": "stdout",
     "output_type": "stream",
     "text": [
      "mkdir: cannot create directory ‘/mnt/tumor_figures_png’: File exists\r\n"
     ]
    }
   ],
   "source": [
    "! mkdir /mnt/tumor_figures_png\n",
    "! mkdir /mnt/tumor_figures_png/health_tissue\n",
    "! mkdir /mnt/tumor_figures_png/tumor_tissue\n"
   ]
  },
  {
   "cell_type": "code",
   "execution_count": 33,
   "metadata": {
    "collapsed": false
   },
   "outputs": [
    {
     "name": "stdout",
     "output_type": "stream",
     "text": [
      "/mnt/tumor_figures/tumor_tissue/\n"
     ]
    }
   ],
   "source": [
    "import os\n",
    "import scipy.misc \n",
    "\n",
    "path = '/mnt/tumor_figures/tumor_tissue/'\n",
    "saveFolder = path\n",
    "os.chdir(path)\n",
    "print (path)\n",
    "for filename in os.listdir(\".\"):\n",
    "    if filename.startswith(\"mouse\"):\n",
    "        image_array = scipy.misc.imread(filename)\n",
    "        scipy.misc.imsave('/mnt/tumor_figures_png/tumor_tissue/' + filename[:-4] + \".jpg\", image_array)"
   ]
  },
  {
   "cell_type": "code",
   "execution_count": 34,
   "metadata": {
    "collapsed": false
   },
   "outputs": [
    {
     "name": "stdout",
     "output_type": "stream",
     "text": [
      "/mnt/tumor_figures/health_tissue/\n"
     ]
    }
   ],
   "source": [
    "path = '/mnt/tumor_figures/health_tissue/'\n",
    "saveFolder = path\n",
    "os.chdir(path)\n",
    "print (path)\n",
    "for filename in os.listdir(\".\"):\n",
    "    if filename.startswith(\"mouse\"):\n",
    "        image_array = scipy.misc.imread(filename)\n",
    "        scipy.misc.imsave('//mnt/tumor_figures_png/health_tissue/' + filename[:-4] + \".jpg\", image_array)"
   ]
  },
  {
   "cell_type": "code",
   "execution_count": 35,
   "metadata": {
    "collapsed": false
   },
   "outputs": [
    {
     "name": "stdout",
     "output_type": "stream",
     "text": [
      "2017-09-13 18:31:09.882292: W tensorflow/core/platform/cpu_feature_guard.cc:45] The TensorFlow library wasn't compiled to use SSE4.1 instructions, but these are available on your machine and could speed up CPU computations.\n",
      "2017-09-13 18:31:09.882363: W tensorflow/core/platform/cpu_feature_guard.cc:45] The TensorFlow library wasn't compiled to use SSE4.2 instructions, but these are available on your machine and could speed up CPU computations.\n",
      "2017-09-13 18:31:09.882380: W tensorflow/core/platform/cpu_feature_guard.cc:45] The TensorFlow library wasn't compiled to use AVX instructions, but these are available on your machine and could speed up CPU computations.\n",
      "2017-09-13 18:31:09.882393: W tensorflow/core/platform/cpu_feature_guard.cc:45] The TensorFlow library wasn't compiled to use AVX2 instructions, but these are available on your machine and could speed up CPU computations.\n",
      "2017-09-13 18:31:09.882405: W tensorflow/core/platform/cpu_feature_guard.cc:45] The TensorFlow library wasn't compiled to use FMA instructions, but these are available on your machine and could speed up CPU computations.\n",
      "2017-09-13 18:31:10.005208: I tensorflow/stream_executor/cuda/cuda_gpu_executor.cc:901] successful NUMA node read from SysFS had negative value (-1), but there must be at least one NUMA node, so returning NUMA node zero\n",
      "2017-09-13 18:31:10.005797: I tensorflow/core/common_runtime/gpu/gpu_device.cc:887] Found device 0 with properties: \n",
      "name: Tesla K80\n",
      "major: 3 minor: 7 memoryClockRate (GHz) 0.8235\n",
      "pciBusID 0000:00:1e.0\n",
      "Total memory: 11.17GiB\n",
      "Free memory: 11.11GiB\n",
      "2017-09-13 18:31:10.005865: I tensorflow/core/common_runtime/gpu/gpu_device.cc:908] DMA: 0 \n",
      "2017-09-13 18:31:10.005891: I tensorflow/core/common_runtime/gpu/gpu_device.cc:918] 0:   Y \n",
      "2017-09-13 18:31:10.005913: I tensorflow/core/common_runtime/gpu/gpu_device.cc:977] Creating TensorFlow device (/gpu:0) -> (device: 0, name: Tesla K80, pci bus id: 0000:00:1e.0)\n",
      "Looking for images in 'health_tissue'\n",
      "WARNING: Folder has less than 20 images, which may cause issues.\n",
      "Looking for images in 'tumor_tissue'\n",
      "2017-09-13 18:31:10.638659: I tensorflow/core/common_runtime/gpu/gpu_device.cc:977] Creating TensorFlow device (/gpu:0) -> (device: 0, name: Tesla K80, pci bus id: 0000:00:1e.0)\n",
      "Creating bottleneck at bottlenecks/tumor_tissue/mouse_15_1_1.jpg.txt\n",
      "2017-09-13 18:31:10.982237: W tensorflow/core/framework/op_def_util.cc:332] Op BatchNormWithGlobalNormalization is deprecated. It will cease to work in GraphDef version 9. Use tf.nn.batch_normalization().\n",
      "Creating bottleneck at bottlenecks/tumor_tissue/mouse_3_1_1.jpg.txt\n",
      "Creating bottleneck at bottlenecks/tumor_tissue/mouse_11_1_3.jpg.txt\n",
      "Creating bottleneck at bottlenecks/tumor_tissue/mouse_4_1_4.jpg.txt\n",
      "Creating bottleneck at bottlenecks/tumor_tissue/mouse_13_1_2.jpg.txt\n",
      "Creating bottleneck at bottlenecks/tumor_tissue/mouse_1_1_2.jpg.txt\n",
      "Creating bottleneck at bottlenecks/tumor_tissue/mouse_7_1_4.jpg.txt\n",
      "Creating bottleneck at bottlenecks/tumor_tissue/mouse_9_1_1.jpg.txt\n",
      "Creating bottleneck at bottlenecks/tumor_tissue/mouse_6_1_1.jpg.txt\n",
      "Creating bottleneck at bottlenecks/tumor_tissue/mouse_8_1_2.jpg.txt\n",
      "Creating bottleneck at bottlenecks/tumor_tissue/mouse_6_1_3.jpg.txt\n",
      "Creating bottleneck at bottlenecks/tumor_tissue/mouse_3_1_2.jpg.txt\n",
      "Creating bottleneck at bottlenecks/tumor_tissue/mouse_10_1_1.jpg.txt\n",
      "Creating bottleneck at bottlenecks/tumor_tissue/mouse_11_1_2.jpg.txt\n",
      "Creating bottleneck at bottlenecks/tumor_tissue/mouse_9_1_2.jpg.txt\n",
      "Creating bottleneck at bottlenecks/tumor_tissue/mouse_2_1_2.jpg.txt\n",
      "Creating bottleneck at bottlenecks/tumor_tissue/mouse_8_1_1.jpg.txt\n",
      "Creating bottleneck at bottlenecks/tumor_tissue/mouse_12_1_1.jpg.txt\n",
      "Creating bottleneck at bottlenecks/tumor_tissue/mouse_3_1_4.jpg.txt\n",
      "Creating bottleneck at bottlenecks/tumor_tissue/mouse_12_1_3.jpg.txt\n",
      "Creating bottleneck at bottlenecks/tumor_tissue/mouse_7_1_5.jpg.txt\n",
      "Creating bottleneck at bottlenecks/tumor_tissue/mouse_15_1_2.jpg.txt\n",
      "Creating bottleneck at bottlenecks/tumor_tissue/mouse_5_1_1.jpg.txt\n",
      "Creating bottleneck at bottlenecks/tumor_tissue/mouse_4_1_2.jpg.txt\n",
      "Creating bottleneck at bottlenecks/tumor_tissue/mouse_2_1_3.jpg.txt\n",
      "Creating bottleneck at bottlenecks/tumor_tissue/mouse_11_1_1.jpg.txt\n",
      "Creating bottleneck at bottlenecks/tumor_tissue/mouse_5_1_3.jpg.txt\n",
      "Creating bottleneck at bottlenecks/tumor_tissue/mouse_7_1_6.jpg.txt\n",
      "Creating bottleneck at bottlenecks/tumor_tissue/mouse_12_1_2.jpg.txt\n",
      "Creating bottleneck at bottlenecks/tumor_tissue/mouse_4_0_1.jpg.txt\n",
      "Creating bottleneck at bottlenecks/tumor_tissue/mouse_14_1_2.jpg.txt\n",
      "Creating bottleneck at bottlenecks/tumor_tissue/mouse_15_1_3.jpg.txt\n",
      "Creating bottleneck at bottlenecks/tumor_tissue/mouse_3_1_5.jpg.txt\n",
      "Creating bottleneck at bottlenecks/tumor_tissue/mouse_9_1_3.jpg.txt\n",
      "Creating bottleneck at bottlenecks/tumor_tissue/mouse_1_1_4.jpg.txt\n",
      "Creating bottleneck at bottlenecks/tumor_tissue/mouse_14_1_1.jpg.txt\n",
      "Creating bottleneck at bottlenecks/tumor_tissue/mouse_7_1_3.jpg.txt\n",
      "Creating bottleneck at bottlenecks/tumor_tissue/mouse_8_1_3.jpg.txt\n",
      "Creating bottleneck at bottlenecks/tumor_tissue/mouse_14_1_3.jpg.txt\n",
      "Creating bottleneck at bottlenecks/tumor_tissue/mouse_2_1_1.jpg.txt\n",
      "Creating bottleneck at bottlenecks/tumor_tissue/mouse_10_1_3.jpg.txt\n",
      "Creating bottleneck at bottlenecks/tumor_tissue/mouse_13_1_1.jpg.txt\n",
      "Creating bottleneck at bottlenecks/tumor_tissue/mouse_5_1_2.jpg.txt\n",
      "Creating bottleneck at bottlenecks/tumor_tissue/mouse_2_1_4.jpg.txt\n",
      "Creating bottleneck at bottlenecks/tumor_tissue/mouse_4_1_1.jpg.txt\n",
      "Creating bottleneck at bottlenecks/tumor_tissue/mouse_7_1_1.jpg.txt\n",
      "Creating bottleneck at bottlenecks/tumor_tissue/mouse_10_1_2.jpg.txt\n",
      "Creating bottleneck at bottlenecks/tumor_tissue/mouse_1_1_3.jpg.txt\n",
      "Creating bottleneck at bottlenecks/tumor_tissue/mouse_1_1_1.jpg.txt\n",
      "Creating bottleneck at bottlenecks/tumor_tissue/mouse_4_1_3.jpg.txt\n",
      "Creating bottleneck at bottlenecks/tumor_tissue/mouse_7_1_2.jpg.txt\n",
      "Creating bottleneck at bottlenecks/tumor_tissue/mouse_8_1_4.jpg.txt\n",
      "Creating bottleneck at bottlenecks/tumor_tissue/mouse_6_1_2.jpg.txt\n",
      "Creating bottleneck at bottlenecks/tumor_tissue/mouse_13_1_3.jpg.txt\n",
      "Creating bottleneck at bottlenecks/tumor_tissue/mouse_3_1_3.jpg.txt\n",
      "Creating bottleneck at bottlenecks/health_tissue/mouse_1_0_1.jpg.txt\n",
      "Creating bottleneck at bottlenecks/health_tissue/mouse_3_0_1.jpg.txt\n",
      "Creating bottleneck at bottlenecks/health_tissue/mouse_14_0_1.jpg.txt\n",
      "Creating bottleneck at bottlenecks/health_tissue/mouse_15_0_1.jpg.txt\n",
      "Creating bottleneck at bottlenecks/health_tissue/mouse_5_0_1.jpg.txt\n",
      "Creating bottleneck at bottlenecks/health_tissue/mouse_8_0_1.jpg.txt\n",
      "Creating bottleneck at bottlenecks/health_tissue/mouse_13_0_1.jpg.txt\n",
      "Creating bottleneck at bottlenecks/health_tissue/mouse_2_0_1.jpg.txt\n",
      "2017-09-13 18:31:18.024783: Step 0: Train accuracy = 56.0%\n",
      "2017-09-13 18:31:18.024909: Step 0: Cross entropy = 0.618751\n",
      "2017-09-13 18:31:18.119908: Step 0: Validation accuracy = 51.0% (N=100)\n",
      "2017-09-13 18:31:19.247973: Step 10: Train accuracy = 98.0%\n",
      "2017-09-13 18:31:19.248134: Step 10: Cross entropy = 0.344599\n",
      "2017-09-13 18:31:19.403477: Step 10: Validation accuracy = 100.0% (N=100)\n",
      "2017-09-13 18:31:20.377506: Step 20: Train accuracy = 98.0%\n",
      "2017-09-13 18:31:20.377631: Step 20: Cross entropy = 0.220507\n",
      "2017-09-13 18:31:20.462780: Step 20: Validation accuracy = 100.0% (N=100)\n",
      "2017-09-13 18:31:21.330641: Step 30: Train accuracy = 97.0%\n",
      "2017-09-13 18:31:21.330753: Step 30: Cross entropy = 0.211137\n",
      "2017-09-13 18:31:21.414858: Step 30: Validation accuracy = 100.0% (N=100)\n",
      "2017-09-13 18:31:22.275392: Step 40: Train accuracy = 99.0%\n",
      "2017-09-13 18:31:22.275507: Step 40: Cross entropy = 0.140467\n",
      "2017-09-13 18:31:22.359193: Step 40: Validation accuracy = 100.0% (N=100)\n",
      "2017-09-13 18:31:23.218909: Step 50: Train accuracy = 98.0%\n",
      "2017-09-13 18:31:23.219019: Step 50: Cross entropy = 0.144010\n",
      "2017-09-13 18:31:23.303289: Step 50: Validation accuracy = 100.0% (N=100)\n",
      "2017-09-13 18:31:24.167401: Step 60: Train accuracy = 98.0%\n",
      "2017-09-13 18:31:24.167522: Step 60: Cross entropy = 0.136224\n",
      "2017-09-13 18:31:24.253385: Step 60: Validation accuracy = 100.0% (N=100)\n",
      "2017-09-13 18:31:25.125227: Step 70: Train accuracy = 97.0%\n",
      "2017-09-13 18:31:25.125347: Step 70: Cross entropy = 0.120689\n",
      "2017-09-13 18:31:25.210735: Step 70: Validation accuracy = 100.0% (N=100)\n",
      "2017-09-13 18:31:26.074632: Step 80: Train accuracy = 99.0%\n",
      "2017-09-13 18:31:26.074752: Step 80: Cross entropy = 0.106738\n",
      "2017-09-13 18:31:26.159979: Step 80: Validation accuracy = 100.0% (N=100)\n",
      "2017-09-13 18:31:27.016279: Step 90: Train accuracy = 97.0%\n",
      "2017-09-13 18:31:27.016399: Step 90: Cross entropy = 0.117567\n",
      "2017-09-13 18:31:27.100884: Step 90: Validation accuracy = 100.0% (N=100)\n",
      "2017-09-13 18:31:27.958349: Step 100: Train accuracy = 98.0%\n",
      "2017-09-13 18:31:27.958461: Step 100: Cross entropy = 0.098224\n",
      "2017-09-13 18:31:28.042671: Step 100: Validation accuracy = 100.0% (N=100)\n",
      "2017-09-13 18:31:28.914635: Step 110: Train accuracy = 97.0%\n",
      "2017-09-13 18:31:28.914751: Step 110: Cross entropy = 0.114849\n",
      "2017-09-13 18:31:28.998838: Step 110: Validation accuracy = 100.0% (N=100)\n",
      "2017-09-13 18:31:29.872161: Step 120: Train accuracy = 98.0%\n",
      "2017-09-13 18:31:29.872272: Step 120: Cross entropy = 0.086573\n",
      "2017-09-13 18:31:29.959606: Step 120: Validation accuracy = 100.0% (N=100)\n",
      "2017-09-13 18:31:30.852416: Step 130: Train accuracy = 99.0%\n",
      "2017-09-13 18:31:30.852540: Step 130: Cross entropy = 0.068505\n",
      "2017-09-13 18:31:30.935923: Step 130: Validation accuracy = 100.0% (N=100)\n",
      "2017-09-13 18:31:31.800510: Step 140: Train accuracy = 96.0%\n",
      "2017-09-13 18:31:31.800620: Step 140: Cross entropy = 0.110842\n",
      "2017-09-13 18:31:31.886047: Step 140: Validation accuracy = 100.0% (N=100)\n",
      "2017-09-13 18:31:32.764473: Step 150: Train accuracy = 96.0%\n",
      "2017-09-13 18:31:32.764587: Step 150: Cross entropy = 0.098723\n",
      "2017-09-13 18:31:32.849251: Step 150: Validation accuracy = 100.0% (N=100)\n",
      "2017-09-13 18:31:33.712556: Step 160: Train accuracy = 97.0%\n",
      "2017-09-13 18:31:33.712673: Step 160: Cross entropy = 0.087854\n",
      "2017-09-13 18:31:33.796808: Step 160: Validation accuracy = 100.0% (N=100)\n",
      "2017-09-13 18:31:34.664921: Step 170: Train accuracy = 97.0%\n",
      "2017-09-13 18:31:34.665036: Step 170: Cross entropy = 0.072695\n",
      "2017-09-13 18:31:34.752667: Step 170: Validation accuracy = 100.0% (N=100)\n",
      "2017-09-13 18:31:35.622534: Step 180: Train accuracy = 99.0%\n",
      "2017-09-13 18:31:35.622662: Step 180: Cross entropy = 0.060745\n",
      "2017-09-13 18:31:35.707347: Step 180: Validation accuracy = 100.0% (N=100)\n",
      "2017-09-13 18:31:36.593312: Step 190: Train accuracy = 97.0%\n",
      "2017-09-13 18:31:36.593451: Step 190: Cross entropy = 0.072946\n",
      "2017-09-13 18:31:36.679536: Step 190: Validation accuracy = 100.0% (N=100)\n",
      "2017-09-13 18:31:37.560097: Step 200: Train accuracy = 96.0%\n",
      "2017-09-13 18:31:37.560220: Step 200: Cross entropy = 0.083263\n",
      "2017-09-13 18:31:37.644015: Step 200: Validation accuracy = 100.0% (N=100)\n",
      "2017-09-13 18:31:38.509091: Step 210: Train accuracy = 98.0%\n",
      "2017-09-13 18:31:38.509215: Step 210: Cross entropy = 0.058088\n",
      "2017-09-13 18:31:38.593305: Step 210: Validation accuracy = 100.0% (N=100)\n",
      "2017-09-13 18:31:39.463421: Step 220: Train accuracy = 100.0%\n",
      "2017-09-13 18:31:39.463535: Step 220: Cross entropy = 0.031548\n",
      "2017-09-13 18:31:39.547584: Step 220: Validation accuracy = 100.0% (N=100)\n",
      "2017-09-13 18:31:40.411873: Step 230: Train accuracy = 95.0%\n",
      "2017-09-13 18:31:40.411985: Step 230: Cross entropy = 0.084746\n",
      "2017-09-13 18:31:40.496667: Step 230: Validation accuracy = 100.0% (N=100)\n",
      "2017-09-13 18:31:41.611533: Step 240: Train accuracy = 99.0%\n",
      "2017-09-13 18:31:41.611653: Step 240: Cross entropy = 0.047177\n",
      "2017-09-13 18:31:41.696849: Step 240: Validation accuracy = 100.0% (N=100)\n",
      "2017-09-13 18:31:42.560927: Step 250: Train accuracy = 98.0%\n",
      "2017-09-13 18:31:42.561097: Step 250: Cross entropy = 0.052187\n",
      "2017-09-13 18:31:42.647490: Step 250: Validation accuracy = 100.0% (N=100)\n",
      "2017-09-13 18:31:43.512024: Step 260: Train accuracy = 98.0%\n",
      "2017-09-13 18:31:43.512146: Step 260: Cross entropy = 0.051015\n",
      "2017-09-13 18:31:43.596552: Step 260: Validation accuracy = 100.0% (N=100)\n",
      "2017-09-13 18:31:44.460529: Step 270: Train accuracy = 99.0%\n",
      "2017-09-13 18:31:44.460642: Step 270: Cross entropy = 0.042373\n",
      "2017-09-13 18:31:44.544590: Step 270: Validation accuracy = 100.0% (N=100)\n",
      "2017-09-13 18:31:45.405354: Step 280: Train accuracy = 97.0%\n",
      "2017-09-13 18:31:45.405467: Step 280: Cross entropy = 0.063941\n",
      "2017-09-13 18:31:45.492807: Step 280: Validation accuracy = 100.0% (N=100)\n",
      "2017-09-13 18:31:46.468275: Step 290: Train accuracy = 97.0%\n",
      "2017-09-13 18:31:46.468396: Step 290: Cross entropy = 0.062418\n",
      "2017-09-13 18:31:46.552002: Step 290: Validation accuracy = 100.0% (N=100)\n",
      "2017-09-13 18:31:47.424491: Step 300: Train accuracy = 96.0%\n",
      "2017-09-13 18:31:47.424610: Step 300: Cross entropy = 0.066132\n",
      "2017-09-13 18:31:47.509326: Step 300: Validation accuracy = 100.0% (N=100)\n",
      "2017-09-13 18:31:48.373573: Step 310: Train accuracy = 94.0%\n",
      "2017-09-13 18:31:48.373694: Step 310: Cross entropy = 0.074612\n",
      "2017-09-13 18:31:48.457932: Step 310: Validation accuracy = 100.0% (N=100)\n",
      "2017-09-13 18:31:49.324173: Step 320: Train accuracy = 98.0%\n",
      "2017-09-13 18:31:49.324291: Step 320: Cross entropy = 0.048416\n",
      "2017-09-13 18:31:49.407652: Step 320: Validation accuracy = 100.0% (N=100)\n",
      "2017-09-13 18:31:50.274779: Step 330: Train accuracy = 97.0%\n",
      "2017-09-13 18:31:50.274901: Step 330: Cross entropy = 0.052261\n",
      "2017-09-13 18:31:50.358742: Step 330: Validation accuracy = 100.0% (N=100)\n",
      "2017-09-13 18:31:51.223553: Step 340: Train accuracy = 94.0%\n",
      "2017-09-13 18:31:51.223669: Step 340: Cross entropy = 0.073011\n",
      "2017-09-13 18:31:51.307617: Step 340: Validation accuracy = 100.0% (N=100)\n",
      "2017-09-13 18:31:52.231540: Step 350: Train accuracy = 100.0%\n",
      "2017-09-13 18:31:52.231669: Step 350: Cross entropy = 0.026939\n",
      "2017-09-13 18:31:52.327935: Step 350: Validation accuracy = 100.0% (N=100)\n",
      "2017-09-13 18:31:53.214256: Step 360: Train accuracy = 99.0%\n",
      "2017-09-13 18:31:53.214424: Step 360: Cross entropy = 0.039297\n",
      "2017-09-13 18:31:53.299418: Step 360: Validation accuracy = 100.0% (N=100)\n",
      "2017-09-13 18:31:54.171563: Step 370: Train accuracy = 96.0%\n",
      "2017-09-13 18:31:54.171685: Step 370: Cross entropy = 0.057771\n",
      "2017-09-13 18:31:54.256248: Step 370: Validation accuracy = 100.0% (N=100)\n",
      "2017-09-13 18:31:55.123225: Step 380: Train accuracy = 100.0%\n",
      "2017-09-13 18:31:55.123346: Step 380: Cross entropy = 0.021562\n",
      "2017-09-13 18:31:55.207953: Step 380: Validation accuracy = 100.0% (N=100)\n",
      "2017-09-13 18:31:56.076041: Step 390: Train accuracy = 98.0%\n",
      "2017-09-13 18:31:56.076153: Step 390: Cross entropy = 0.039944\n",
      "2017-09-13 18:31:56.160711: Step 390: Validation accuracy = 100.0% (N=100)\n",
      "2017-09-13 18:31:57.028597: Step 400: Train accuracy = 96.0%\n",
      "2017-09-13 18:31:57.028720: Step 400: Cross entropy = 0.050908\n",
      "2017-09-13 18:31:57.113957: Step 400: Validation accuracy = 100.0% (N=100)\n",
      "2017-09-13 18:31:57.980821: Step 410: Train accuracy = 100.0%\n",
      "2017-09-13 18:31:57.980939: Step 410: Cross entropy = 0.060128\n",
      "2017-09-13 18:31:58.066471: Step 410: Validation accuracy = 100.0% (N=100)\n",
      "2017-09-13 18:31:58.943097: Step 420: Train accuracy = 100.0%\n",
      "2017-09-13 18:31:58.943242: Step 420: Cross entropy = 0.025663\n",
      "2017-09-13 18:31:59.031910: Step 420: Validation accuracy = 100.0% (N=100)\n",
      "2017-09-13 18:31:59.911469: Step 430: Train accuracy = 100.0%\n",
      "2017-09-13 18:31:59.911586: Step 430: Cross entropy = 0.042533\n",
      "2017-09-13 18:31:59.997010: Step 430: Validation accuracy = 100.0% (N=100)\n",
      "2017-09-13 18:32:00.865088: Step 440: Train accuracy = 100.0%\n",
      "2017-09-13 18:32:00.865214: Step 440: Cross entropy = 0.046982\n",
      "2017-09-13 18:32:00.950364: Step 440: Validation accuracy = 100.0% (N=100)\n",
      "2017-09-13 18:32:01.818152: Step 450: Train accuracy = 100.0%\n",
      "2017-09-13 18:32:01.818272: Step 450: Cross entropy = 0.050195\n",
      "2017-09-13 18:32:01.904408: Step 450: Validation accuracy = 100.0% (N=100)\n",
      "2017-09-13 18:32:02.783548: Step 460: Train accuracy = 100.0%\n",
      "2017-09-13 18:32:02.783672: Step 460: Cross entropy = 0.033470\n",
      "2017-09-13 18:32:02.875118: Step 460: Validation accuracy = 100.0% (N=100)\n",
      "2017-09-13 18:32:03.774296: Step 470: Train accuracy = 100.0%\n",
      "2017-09-13 18:32:03.774411: Step 470: Cross entropy = 0.046394\n",
      "2017-09-13 18:32:03.859762: Step 470: Validation accuracy = 100.0% (N=100)\n",
      "2017-09-13 18:32:04.728653: Step 480: Train accuracy = 100.0%\n",
      "2017-09-13 18:32:04.728772: Step 480: Cross entropy = 0.048394\n",
      "2017-09-13 18:32:04.813115: Step 480: Validation accuracy = 100.0% (N=100)\n",
      "2017-09-13 18:32:05.681458: Step 490: Train accuracy = 100.0%\n",
      "2017-09-13 18:32:05.681572: Step 490: Cross entropy = 0.035165\n",
      "2017-09-13 18:32:05.765711: Step 490: Validation accuracy = 100.0% (N=100)\n",
      "2017-09-13 18:32:06.551622: Step 499: Train accuracy = 100.0%\n",
      "2017-09-13 18:32:06.551738: Step 499: Cross entropy = 0.029707\n",
      "2017-09-13 18:32:06.636783: Step 499: Validation accuracy = 100.0% (N=100)\n",
      "Final test accuracy = 100.0% (N=7)\n",
      "Converted 2 variables to const ops.\n"
     ]
    }
   ],
   "source": [
    "os.chdir('/mnt/')\n",
    "! python retrain.py \\\n",
    "  --bottleneck_dir=bottlenecks \\\n",
    "  --how_many_training_steps=500 \\\n",
    "  --model_dir=inception \\\n",
    "  --summaries_dir=training_summaries/basic \\\n",
    "  --output_graph=retrained_graph.pb \\\n",
    "  --output_labels=retrained_labels.txt \\\n",
    "  --image_dir=tumor_figures_png"
   ]
  },
  {
   "cell_type": "code",
   "execution_count": null,
   "metadata": {
    "collapsed": true
   },
   "outputs": [],
   "source": []
  }
 ],
 "metadata": {
  "anaconda-cloud": {},
  "kernelspec": {
   "display_name": "Python [default]",
   "language": "python",
   "name": "python3"
  },
  "language_info": {
   "codemirror_mode": {
    "name": "ipython",
    "version": 3
   },
   "file_extension": ".py",
   "mimetype": "text/x-python",
   "name": "python",
   "nbconvert_exporter": "python",
   "pygments_lexer": "ipython3",
   "version": "3.5.2"
  }
 },
 "nbformat": 4,
 "nbformat_minor": 1
}
